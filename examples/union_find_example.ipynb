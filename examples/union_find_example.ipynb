{
  "nbformat": 4,
  "nbformat_minor": 0,
  "metadata": {
    "colab": {
      "provenance": [],
      "collapsed_sections": [],
      "authorship_tag": "ABX9TyOTVaFfE88q3cMGQ+Q3RI6o",
      "include_colab_link": true
    },
    "kernelspec": {
      "name": "python3",
      "display_name": "Python 3"
    },
    "language_info": {
      "name": "python"
    }
  },
  "cells": [
    {
      "cell_type": "markdown",
      "metadata": {
        "id": "view-in-github",
        "colab_type": "text"
      },
      "source": [
        "<a href=\"https://colab.research.google.com/github/leoxiang66/Algorithms-and-Data-Structures/blob/main/examples/union_find_example.ipynb\" target=\"_parent\"><img src=\"https://colab.research.google.com/assets/colab-badge.svg\" alt=\"Open In Colab\"/></a>"
      ]
    },
    {
      "cell_type": "code",
      "execution_count": 1,
      "metadata": {
        "id": "6JHXt1AQaJO0"
      },
      "outputs": [],
      "source": [
        "data = {'contrastive learning': 1,\n",
        " 'feed-forward layer': 1,\n",
        " 'key-value memory': 1,\n",
        " 'knowledge distillation': 1,\n",
        " 'knowledge-based learning': 1,\n",
        " 'lexical': 1,\n",
        " 'machine translation': 1,\n",
        " 'model architecture': 1,\n",
        " 'model pretraining': 1,\n",
        " 'natural language inference': 1,\n",
        " 'natural language processing': 1,\n",
        " 'news translation': 1,\n",
        " 'nlp': 1,\n",
        " 'pre-training': 1,\n",
        " 'pretraining': 1,\n",
        " 'sentence embeddings': 1,\n",
        " 'similar language translation': 1,\n",
        " 'supervised learning': 1,\n",
        " 'transformer-based language model': 1,\n",
        " 'wmt 2020': 1}"
      ]
    },
    {
      "cell_type": "code",
      "source": [
        "data_list = list(data.keys())"
      ],
      "metadata": {
        "id": "U0BlfJ0arU7C"
      },
      "execution_count": 2,
      "outputs": []
    },
    {
      "cell_type": "code",
      "source": [
        "!pip install textdistance"
      ],
      "metadata": {
        "colab": {
          "base_uri": "https://localhost:8080/"
        },
        "id": "KF2tyRXOcux0",
        "outputId": "73919ddb-cbfc-458a-c639-e56ed9e474f6"
      },
      "execution_count": 3,
      "outputs": [
        {
          "output_type": "stream",
          "name": "stdout",
          "text": [
            "Looking in indexes: https://pypi.org/simple, https://us-python.pkg.dev/colab-wheels/public/simple/\n",
            "Requirement already satisfied: textdistance in /usr/local/lib/python3.7/dist-packages (4.5.0)\n"
          ]
        }
      ]
    },
    {
      "cell_type": "code",
      "source": [
        "!pip install git+https://github.com/leoxiang66/Algorithms-and-Data-Structures.git"
      ],
      "metadata": {
        "colab": {
          "base_uri": "https://localhost:8080/"
        },
        "id": "ul8KaXEbqqZ-",
        "outputId": "e48ae692-78dc-4cae-f012-e63a35598902"
      },
      "execution_count": 4,
      "outputs": [
        {
          "output_type": "stream",
          "name": "stdout",
          "text": [
            "Looking in indexes: https://pypi.org/simple, https://us-python.pkg.dev/colab-wheels/public/simple/\n",
            "Collecting git+https://github.com/leoxiang66/Algorithms-and-Data-Structures.git\n",
            "  Cloning https://github.com/leoxiang66/Algorithms-and-Data-Structures.git to /tmp/pip-req-build-tg_hfpds\n",
            "  Running command git clone -q https://github.com/leoxiang66/Algorithms-and-Data-Structures.git /tmp/pip-req-build-tg_hfpds\n"
          ]
        }
      ]
    },
    {
      "cell_type": "code",
      "source": [
        "import textdistance as td"
      ],
      "metadata": {
        "id": "caXNOZGMc6K6"
      },
      "execution_count": 5,
      "outputs": []
    },
    {
      "cell_type": "code",
      "source": [
        "def __abbrev(text:str):\n",
        "    return ''.join(list(map(lambda x : x[0],text.split(' '))))"
      ],
      "metadata": {
        "id": "6MSqj8VFeSS7"
      },
      "execution_count": 6,
      "outputs": []
    },
    {
      "cell_type": "code",
      "source": [
        "''.join(list(map(lambda x : x[0],'natural language processing'.split(' '))))"
      ],
      "metadata": {
        "colab": {
          "base_uri": "https://localhost:8080/",
          "height": 35
        },
        "id": "-NzAYcyDeD76",
        "outputId": "6136f485-edb9-4c3e-f10a-7ecf045e36f8"
      },
      "execution_count": 7,
      "outputs": [
        {
          "output_type": "execute_result",
          "data": {
            "text/plain": [
              "'nlp'"
            ],
            "application/vnd.google.colaboratory.intrinsic+json": {
              "type": "string"
            }
          },
          "metadata": {},
          "execution_count": 7
        }
      ]
    },
    {
      "cell_type": "code",
      "source": [
        "__abbrev('machine learning')"
      ],
      "metadata": {
        "colab": {
          "base_uri": "https://localhost:8080/",
          "height": 35
        },
        "id": "1DxCRLV7eXg2",
        "outputId": "d1b234d2-8857-4b21-dcc2-6223d9ee28bf"
      },
      "execution_count": 8,
      "outputs": [
        {
          "output_type": "execute_result",
          "data": {
            "text/plain": [
              "'ml'"
            ],
            "application/vnd.google.colaboratory.intrinsic+json": {
              "type": "string"
            }
          },
          "metadata": {},
          "execution_count": 8
        }
      ]
    },
    {
      "cell_type": "code",
      "source": [
        "__abbrev('machine')"
      ],
      "metadata": {
        "colab": {
          "base_uri": "https://localhost:8080/",
          "height": 35
        },
        "id": "EeyjHMf_ee6B",
        "outputId": "3c117928-6958-46ed-dae9-86a536284a1e"
      },
      "execution_count": 9,
      "outputs": [
        {
          "output_type": "execute_result",
          "data": {
            "text/plain": [
              "'m'"
            ],
            "application/vnd.google.colaboratory.intrinsic+json": {
              "type": "string"
            }
          },
          "metadata": {},
          "execution_count": 9
        }
      ]
    },
    {
      "cell_type": "code",
      "source": [
        "td.ratcliff_obershelp('natural language inference','natural language processing')"
      ],
      "metadata": {
        "colab": {
          "base_uri": "https://localhost:8080/"
        },
        "id": "aXy_iRVci3Fj",
        "outputId": "7ddc65d1-0073-4f61-813d-89cba449664b"
      },
      "execution_count": 10,
      "outputs": [
        {
          "output_type": "execute_result",
          "data": {
            "text/plain": [
              "0.7169811320754716"
            ]
          },
          "metadata": {},
          "execution_count": 10
        }
      ]
    },
    {
      "cell_type": "code",
      "source": [
        "condition = lambda x,y: td.ratcliff_obershelp(x,y) > 0.65 or __abbrev(x) == y or x == __abbrev(y)"
      ],
      "metadata": {
        "id": "ZBMU0rVpn6fw"
      },
      "execution_count": 11,
      "outputs": []
    },
    {
      "cell_type": "code",
      "source": [
        "from algos import UnionFind"
      ],
      "metadata": {
        "id": "FYqQ1R6pqsfl"
      },
      "execution_count": 12,
      "outputs": []
    },
    {
      "cell_type": "code",
      "source": [
        "unionfind = UnionFind(data_list,condition)"
      ],
      "metadata": {
        "id": "Rq_hEUkPqwF8"
      },
      "execution_count": 13,
      "outputs": []
    },
    {
      "cell_type": "code",
      "source": [
        "unionfind.union_step()"
      ],
      "metadata": {
        "id": "u2LV1QlAq1G2"
      },
      "execution_count": 14,
      "outputs": []
    },
    {
      "cell_type": "code",
      "source": [
        "sorted(list(unionfind.get_unions().values()),key = len, reverse = True)"
      ],
      "metadata": {
        "colab": {
          "base_uri": "https://localhost:8080/"
        },
        "id": "QtM-YSOWq3GJ",
        "outputId": "29539376-7201-44d6-cf4d-9c03abe55f05"
      },
      "execution_count": 15,
      "outputs": [
        {
          "output_type": "execute_result",
          "data": {
            "text/plain": [
              "[['machine translation', 'news translation', 'similar language translation'],\n",
              " ['model pretraining', 'pre-training', 'pretraining'],\n",
              " ['natural language inference', 'natural language processing', 'nlp'],\n",
              " ['contrastive learning'],\n",
              " ['feed-forward layer'],\n",
              " ['key-value memory'],\n",
              " ['knowledge distillation'],\n",
              " ['knowledge-based learning'],\n",
              " ['lexical'],\n",
              " ['model architecture'],\n",
              " ['sentence embeddings'],\n",
              " ['supervised learning'],\n",
              " ['transformer-based language model'],\n",
              " ['wmt 2020']]"
            ]
          },
          "metadata": {},
          "execution_count": 15
        }
      ]
    }
  ]
}